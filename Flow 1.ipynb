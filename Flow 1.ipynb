{
 "cells": [
  {
   "cell_type": "markdown",
   "metadata": {},
   "source": [
    "# Flow 1\n",
    "\n",
    "> The only way to make sense out of change is to plunge into it, move with it, and join the dance. _- Alan Watts_\n",
    "\n",
    "> No man ever steps in the same river twice, for it's not the same river and he's not the same man. _- Heraclitus_\n",
    "\n",
    "> Life is a series of natural and spontaneous changes. Don’t resist them – that only creates sorrow. Let reality be reality. Let things flow naturally forward in whatever way they like. _- Lao Tzu_"
   ]
  },
  {
   "cell_type": "markdown",
   "metadata": {},
   "source": [
    "---\n",
    "\n",
    "Last time we talked about **Form** and covered some basics about how software represents \"things\" - today, we'll focus on the fundamentals of how those things change and how, as a software developer, it is your job to guide that change forward as effectively as possible.\n",
    "\n",
    "### Persistence\n",
    "\n",
    "Up until now, the forms we've been working with - `100`, `\"Daniel\"` - have been ephemeral. ___It was their duty to die as soon as they came into existence.___ 👼\n",
    "\n",
    "In order for change to occur, a thing needs to have a **lifespan** so they can grow and, eventually, die. A life-cycle, if you will.\n",
    "\n",
    "![nahsavenya](http://img2.wikia.nocookie.net/__cb20110225000432/lionking/images/a/af/Circleoflife.png)\n",
    "\n",
    "**NAAAAHHHSAVENYAAAAAAAA**"
   ]
  },
  {
   "cell_type": "markdown",
   "metadata": {},
   "source": [
    "---\n",
    "\n",
    "\"Forms\" are persisted in computers when you basically give that form a place to live, you book them an address; when you tell the computer: **\"hey - write this down\"**. This is done in Python like so: "
   ]
  },
  {
   "cell_type": "code",
   "execution_count": 19,
   "metadata": {},
   "outputs": [],
   "source": [
    "# you can call it whatever you want, mind\n",
    "\n",
    "home_sweet_home = \"25 Greene St, Apt. D\""
   ]
  },
  {
   "cell_type": "markdown",
   "metadata": {},
   "source": [
    "_TODO_: the id, identity or address that this place can be written down...\n",
    "\n",
    "you could also think of it as \"defining\" your own word\n",
    "\n",
    "\n",
    "\n",
    "TODO: make a big deal about it being able to change later, that it's VARIABLE"
   ]
  },
  {
   "cell_type": "code",
   "execution_count": 20,
   "metadata": {},
   "outputs": [
    {
     "data": {
      "text/plain": [
       "'100001001100000101111000101010000'"
      ]
     },
     "execution_count": 20,
     "metadata": {},
     "output_type": "execute_result"
    }
   ],
   "source": [
    "# this code just gets the value's address and prints it as binary\n",
    "\n",
    "mailbox = id(home_sweet_home)\n",
    "\n",
    "\"{0:b}\".format(mailbox)"
   ]
  },
  {
   "cell_type": "markdown",
   "metadata": {},
   "source": [
    "_TODO_\n",
    "\n",
    "![address](./address.jpg)"
   ]
  },
  {
   "cell_type": "code",
   "execution_count": 23,
   "metadata": {},
   "outputs": [
    {
     "data": {
      "text/plain": [
       "py_object(b'b62861fb5f6b4cf8b8c25e20b3473991')"
      ]
     },
     "execution_count": 23,
     "metadata": {},
     "output_type": "execute_result"
    }
   ],
   "source": [
    "import ctypes\n",
    "\n",
    "# look in our mailbox\n",
    "ctypes.cast(mailbox, ctypes.py_object)"
   ]
  },
  {
   "cell_type": "code",
   "execution_count": 22,
   "metadata": {},
   "outputs": [
    {
     "data": {
      "text/plain": [
       "'100001001100000101111011100111000'"
      ]
     },
     "execution_count": 22,
     "metadata": {},
     "output_type": "execute_result"
    }
   ],
   "source": [
    "home_sweet_home = \"4125 45th St, Apt. 1G\"\n",
    "\n",
    "\"{0:b}\".format(id(home_sweet_home))"
   ]
  },
  {
   "cell_type": "markdown",
   "metadata": {},
   "source": [
    "TODO: reserved words (\"defined\" language)"
   ]
  },
  {
   "cell_type": "markdown",
   "metadata": {},
   "source": [
    "**TL:DR;**\n",
    "\n",
    "- you can't do something with anything if you're not holding onto it\n",
    "- to hold onto something, define it with `=`\n",
    "- based on the language you're using, some things will be already defined and may be off limits\n",
    "\n",
    "---"
   ]
  },
  {
   "cell_type": "markdown",
   "metadata": {},
   "source": [
    "TODO: where you write something down matters - memory (faster yet ephemeral) vs. disk (slower, but long-lasting)"
   ]
  },
  {
   "cell_type": "markdown",
   "metadata": {},
   "source": [
    "> Q: ok, i wrote it down - now what can I do with... it\n",
    "# A: MAKE DECISIONS, FLOW LIKE RIVER"
   ]
  },
  {
   "cell_type": "markdown",
   "metadata": {},
   "source": [
    "TODO: if/else illustrations (I guess I could just draw these on the board)"
   ]
  },
  {
   "cell_type": "code",
   "execution_count": 28,
   "metadata": {},
   "outputs": [
    {
     "data": {
      "text/plain": [
       "'Fido'"
      ]
     },
     "execution_count": 28,
     "metadata": {},
     "output_type": "execute_result"
    }
   ],
   "source": [
    "owner_name = \"Casey\"\n",
    "\n",
    "dog_name = \"Russel\" if owner_name is \"Jenny\" else \"Fido\"\n",
    "\n",
    "dog_name"
   ]
  },
  {
   "cell_type": "code",
   "execution_count": 31,
   "metadata": {},
   "outputs": [
    {
     "data": {
      "text/plain": [
       "\"You've got the wrong dog!!!!!\""
      ]
     },
     "execution_count": 31,
     "metadata": {},
     "output_type": "execute_result"
    }
   ],
   "source": [
    "owner_name = \"Jenny\"\n",
    "\n",
    "dog_status = \"Everyone's got their respective dogs\"\n",
    "\n",
    "if owner_name is \"Jenny\" and dog_name is not \"Russel\":\n",
    "    dog_status = \"You've got the wrong dog!!!!!\"\n",
    "    \n",
    "dog_status"
   ]
  },
  {
   "cell_type": "code",
   "execution_count": 33,
   "metadata": {},
   "outputs": [
    {
     "data": {
      "text/plain": [
       "'GIVE ME BACK MY DOG, YOU ASSHOLE'"
      ]
     },
     "execution_count": 33,
     "metadata": {},
     "output_type": "execute_result"
    }
   ],
   "source": [
    "if dog_name is \"Fido\" or owner_name is \"Casey\":\n",
    "    message = \"GIVE ME BACK MY DOG, YOU ASSHOLE\"\n",
    "else:\n",
    "    message = \"Nothing to say...\"\n",
    "\n",
    "message"
   ]
  },
  {
   "cell_type": "markdown",
   "metadata": {},
   "source": [
    "TODO: logic inventory\n",
    "\n",
    "sometimes logic alone is not enough (unless you like being bored)"
   ]
  },
  {
   "cell_type": "markdown",
   "metadata": {},
   "source": [
    "TODO: loop illustrations"
   ]
  },
  {
   "cell_type": "code",
   "execution_count": 37,
   "metadata": {},
   "outputs": [
    {
     "name": "stdout",
     "output_type": "stream",
     "text": [
      "1\n",
      "2\n",
      "3\n",
      "4\n",
      "5\n",
      "6\n",
      "7\n",
      "8\n",
      "9\n",
      "10\n"
     ]
    }
   ],
   "source": [
    "count_to_ten = 0\n",
    "\n",
    "while count_to_ten < 10:\n",
    "    count_to_ten = count_to_ten + 1\n",
    "    \n",
    "    print(count_to_ten)"
   ]
  },
  {
   "cell_type": "code",
   "execution_count": 38,
   "metadata": {},
   "outputs": [
    {
     "name": "stdout",
     "output_type": "stream",
     "text": [
      "H\n",
      "e\n",
      "i\n",
      "s\n",
      "e\n",
      "n\n",
      "b\n",
      "e\n",
      "r\n",
      "g\n"
     ]
    }
   ],
   "source": [
    "spell_my_name = \"Heisenberg\"\n",
    "\n",
    "for letter in spell_my_name:\n",
    "    print(letter)"
   ]
  },
  {
   "cell_type": "markdown",
   "metadata": {},
   "source": [
    "TODO: beware of infinite loops"
   ]
  },
  {
   "cell_type": "markdown",
   "metadata": {},
   "source": [
    "ok so you know how to program now (lol - informal definition of Turing Complete) \n",
    "\n",
    "with this collection of tools you can solve pretty much any computational problem, but... (albeit very inefficiently, and you might have to get creative), SO\n",
    "\n",
    "## TODO: Exercise 1"
   ]
  },
  {
   "cell_type": "code",
   "execution_count": 39,
   "metadata": {},
   "outputs": [],
   "source": [
    "# towers of hanoi?"
   ]
  },
  {
   "cell_type": "code",
   "execution_count": null,
   "metadata": {},
   "outputs": [],
   "source": []
  }
 ],
 "metadata": {
  "kernelspec": {
   "display_name": "Python 3",
   "language": "python",
   "name": "python3"
  },
  "language_info": {
   "codemirror_mode": {
    "name": "ipython",
    "version": 3
   },
   "file_extension": ".py",
   "mimetype": "text/x-python",
   "name": "python",
   "nbconvert_exporter": "python",
   "pygments_lexer": "ipython3",
   "version": "3.7.0"
  }
 },
 "nbformat": 4,
 "nbformat_minor": 2
}
