{
 "cells": [
  {
   "cell_type": "markdown",
   "metadata": {},
   "source": [
    "# Flow 1\n",
    "\n",
    "> No man ever steps in the same river twice, for it's not the same river and he's not the same man. _- Heraclitus_\n",
    "\n",
    "> Life is a series of natural and spontaneous changes. Don’t resist them – that only creates sorrow. Let reality be reality. Let things flow naturally forward in whatever way they like. _- Lao Tzu_\n",
    "\n",
    "> The only way to make sense out of change is to plunge into it, move with it, and join the dance. _- Alan Watts_"
   ]
  },
  {
   "cell_type": "markdown",
   "metadata": {},
   "source": [
    "---\n",
    "\n",
    "Last time we talked about **Form** and covered some basics about how software represents \"things\" and \"state\" - today, we'll focus on the fundamentals of how to actually enact change *on* those things.\n",
    "\n",
    "### Home sweet home\n",
    "\n",
    "Up until now, the forms we've been working with - `100`, `\"Daniel\"` - have been ephemeral. ___It was their duty to die as soon as they came into existence.___ 👼\n",
    "\n",
    "In order for change to occur, a thing needs to have a **lifespan** to change over. We need to give our fledgling things a gentle chance.\n",
    "\n",
    "A place to live.\n",
    "A place to start.\n",
    "A home."
   ]
  },
  {
   "cell_type": "code",
   "execution_count": 3,
   "metadata": {},
   "outputs": [],
   "source": [
    "# you can call it whatever you want, mind\n",
    "\n",
    "home_sweet_home = \"25 Greene St, Apt. D\""
   ]
  },
  {
   "cell_type": "markdown",
   "metadata": {},
   "source": [
    "Pretty universally the `=` syntax - python included - tells the computer: **\"hey - write this down\"**.\n",
    "\n",
    "In another sense you could think of it as \"defining\" your own word - home sweet home _IS_ 25 Greene St, Apt. D.\n",
    "\n",
    "Where the value `\"25 Greene St, Apt. D\"` actually physcially lives is another matter determined by the running python process. "
   ]
  },
  {
   "cell_type": "code",
   "execution_count": 4,
   "metadata": {},
   "outputs": [
    {
     "data": {
      "text/plain": [
       "'100001001000000100101111110101000'"
      ]
     },
     "execution_count": 4,
     "metadata": {},
     "output_type": "execute_result"
    }
   ],
   "source": [
    "# this code just gets the value's address and prints it as binary\n",
    "\n",
    "mailbox = id(home_sweet_home)\n",
    "\n",
    "\"{0:b}\".format(mailbox)"
   ]
  },
  {
   "cell_type": "markdown",
   "metadata": {},
   "source": [
    "you can think of this as the actual location affixed to the outside of your, er, mailbox\n",
    "\n",
    "![address](./address.jpg)"
   ]
  },
  {
   "cell_type": "markdown",
   "metadata": {},
   "source": [
    "Conceptually this is the place in physical memory where the value is stored. Like the streets of New York, this physical address can be located by street and avenue:\n",
    "\n",
    "![column-access.png](column-access.png)\n",
    "\n",
    "source: https://youtu.be/fpnE6UAfbtU?t=456"
   ]
  },
  {
   "cell_type": "markdown",
   "metadata": {},
   "source": [
    "this address that python uses is VALUE dependant. This is python's address for it, not yours. If you call the rose by another name, it will smell as sweet:"
   ]
  },
  {
   "cell_type": "code",
   "execution_count": 9,
   "metadata": {},
   "outputs": [
    {
     "data": {
      "text/plain": [
       "('100001001000000100101111110101000', '100001001000000100101111110101000')"
      ]
     },
     "execution_count": 9,
     "metadata": {},
     "output_type": "execute_result"
    }
   ],
   "source": [
    "# let's call it 'rose' now\n",
    "rose = home_sweet_home\n",
    "\n",
    "same_mailbox = id(rose)\n",
    "\n",
    "# they're in the same location!!\n",
    "(\"{0:b}\".format(mailbox), \"{0:b}\".format(same_mailbox))"
   ]
  },
  {
   "cell_type": "markdown",
   "metadata": {},
   "source": [
    "however, if you create a NEW value, that's when we actually get a new physical address. python doesn't know if you still need the old value and, as a result, ___now you're occupying two homes instead of one:___"
   ]
  },
  {
   "cell_type": "code",
   "execution_count": 14,
   "metadata": {},
   "outputs": [
    {
     "data": {
      "text/plain": [
       "('100001001000000100101111110101000', '100001001000001101100111011010000')"
      ]
     },
     "execution_count": 14,
     "metadata": {},
     "output_type": "execute_result"
    }
   ],
   "source": [
    "# different address, same home sweet home\n",
    "home_sweet_home = \"4125 45th St, Apt. 1G\"\n",
    "\n",
    "other_mailbox = id(home_sweet_home)\n",
    "\n",
    "# they're different!!\n",
    "(\"{0:b}\".format(same_mailbox), \"{0:b}\".format(other_mailbox))"
   ]
  },
  {
   "cell_type": "markdown",
   "metadata": {},
   "source": [
    "sometimes, what *looks* like change will actually just be the computer switching really quickly between multiple forms, like...\n",
    "\n",
    "![bird-cage](bird_cage.gif)\n",
    "![zooetrope](https://media.giphy.com/media/s8fe1Huz0QEXm/giphy.gif)\n",
    "\n",
    "...and usually that's enough. except when you have no houses (memory) left. Thankfully, that's what garbagemen are for (a real thing we'll get to another time)"
   ]
  },
  {
   "cell_type": "markdown",
   "metadata": {},
   "source": [
    "**TL:DR;**\n",
    "\n",
    "- before you can change or build off an exisiting value, you need to store it with `=`\n",
    "\n",
    "---"
   ]
  },
  {
   "cell_type": "markdown",
   "metadata": {},
   "source": [
    "> Q: ok, i wrote it down - now what can I do with... it\n",
    "\n",
    "### Boolean Logic"
   ]
  },
  {
   "cell_type": "markdown",
   "metadata": {},
   "source": [
    "remember transistors? remember `are` (1) and `are not` (0)?\n",
    "\n",
    "![gorgeboole](https://upload.wikimedia.org/wikipedia/commons/c/ce/George_Boole_color.jpg)\n",
    "\n",
    "this guy, george boole, invented **\"boolean algebra\"** in the early 1800s. **\"boolean algebra\"** is basically a formalized way of arbitrarily orchestrating conclusions from a bunch of yes-or-nos. Sounds boring and arbitary enough to be the foundation for all computation!!! Of particular interest are his way of notating the decision points/nodes/gates:"
   ]
  },
  {
   "cell_type": "markdown",
   "metadata": {},
   "source": [
    "![and](logic-gates-01.png)\n",
    "\n",
    "the way it works is it's a tiny box, that, whenever you give it a `yes` or `no`, `True` or `False`, it gives you `not` that - it gives you the opposite. In Python it's as simple as this: "
   ]
  },
  {
   "cell_type": "code",
   "execution_count": 1,
   "metadata": {},
   "outputs": [
    {
     "data": {
      "text/plain": [
       "False"
      ]
     },
     "execution_count": 1,
     "metadata": {},
     "output_type": "execute_result"
    }
   ],
   "source": [
    "not True"
   ]
  },
  {
   "cell_type": "markdown",
   "metadata": {},
   "source": [
    "![and](logic-gates-02.png)\n",
    "\n",
    "AND is different in that it takes TWO inputs and tells you if they're both true:"
   ]
  },
  {
   "cell_type": "code",
   "execution_count": 4,
   "metadata": {},
   "outputs": [
    {
     "data": {
      "text/plain": [
       "0"
      ]
     },
     "execution_count": 4,
     "metadata": {},
     "output_type": "execute_result"
    }
   ],
   "source": [
    "# no...\n",
    "\n",
    "0 and 0"
   ]
  },
  {
   "cell_type": "code",
   "execution_count": 3,
   "metadata": {},
   "outputs": [
    {
     "data": {
      "text/plain": [
       "False"
      ]
     },
     "execution_count": 3,
     "metadata": {},
     "output_type": "execute_result"
    }
   ],
   "source": [
    "# still no\n",
    "\n",
    "True and False"
   ]
  },
  {
   "cell_type": "code",
   "execution_count": 6,
   "metadata": {},
   "outputs": [
    {
     "data": {
      "text/plain": [
       "True"
      ]
     },
     "execution_count": 6,
     "metadata": {},
     "output_type": "execute_result"
    }
   ],
   "source": [
    "# ding ding ding!!!\n",
    "\n",
    "True and True"
   ]
  },
  {
   "cell_type": "markdown",
   "metadata": {},
   "source": [
    "The amazing thing about these \"logic gates\" is that it's pretty easy to build them out of transistors (as I'm sure you could have imagined). For instance, the AND gate is simply two transistors in series:\n",
    "\n",
    "![logic-gates-04.png](logic-gates-04.png)\n",
    "\n",
    "the signal being gated flows across. If both the transistors are activated at the bottom, the gate is __open__ (`True`)!\n",
    "\n",
    "---\n",
    "\n",
    "One last important gate, the `OR` gate. This one give you `True` if _either_ input is."
   ]
  },
  {
   "cell_type": "markdown",
   "metadata": {},
   "source": [
    "![and](logic-gates-03.png)"
   ]
  },
  {
   "cell_type": "code",
   "execution_count": 9,
   "metadata": {},
   "outputs": [
    {
     "data": {
      "text/plain": [
       "True"
      ]
     },
     "execution_count": 9,
     "metadata": {},
     "output_type": "execute_result"
    }
   ],
   "source": [
    "True or False"
   ]
  },
  {
   "cell_type": "code",
   "execution_count": 10,
   "metadata": {},
   "outputs": [
    {
     "data": {
      "text/plain": [
       "False"
      ]
     },
     "execution_count": 10,
     "metadata": {},
     "output_type": "execute_result"
    }
   ],
   "source": [
    "False or False"
   ]
  },
  {
   "cell_type": "code",
   "execution_count": 11,
   "metadata": {},
   "outputs": [
    {
     "data": {
      "text/plain": [
       "True"
      ]
     },
     "execution_count": 11,
     "metadata": {},
     "output_type": "execute_result"
    }
   ],
   "source": [
    "True or True"
   ]
  },
  {
   "cell_type": "markdown",
   "metadata": {},
   "source": [
    "if `0` and `1` are the building blocks of __form__, `not`, `and` and `or` are the building blocks of __flow__. _Well that and the __clock__ - we'll get to that next._"
   ]
  },
  {
   "cell_type": "markdown",
   "metadata": {},
   "source": [
    "### Don't believe me? Exercise 1 - [let's create a simple adding machine using only boolean logic and inact some change up in this bitch](https://www.tutorialspoint.com/free_online_whiteboard.htm)\n",
    "\n",
    "> thomas you better break out your infinifactory brain\n",
    "\n",
    "Hint: think about how you add regular numbers by hand. You do it one column at a time, and, if there's too many, it _overflows_ to the next column.\n",
    "\n",
    "![https://i.ytimg.com/vi/YFyOsvnr9ig/maxresdefault.jpg](https://i.ytimg.com/vi/YFyOsvnr9ig/maxresdefault.jpg)\n",
    "\n",
    "\n",
    "#### *How can we take advantage of this to build our adding machine?*\n",
    "\n",
    "---"
   ]
  },
  {
   "cell_type": "markdown",
   "metadata": {},
   "source": [
    "### Part II: [time is running out (TODO)](https://open.spotify.com/track/2takcwOaAZWiXQijPHIx7B)\n",
    "\n",
    "at the beginning of this lesson we talked about how in order for things to change, we need to give them a place to live, and a lifespan. well, we gave them a place to live, but no time to actually LIVE there\n",
    "\n",
    "that begs the question - how do we get what amounts to basically an inert hunk of hyper-intricately designed silicon to know what TIME is?? hell i hardly know what time is"
   ]
  },
  {
   "cell_type": "code",
   "execution_count": 8,
   "metadata": {},
   "outputs": [],
   "source": [
    "# (TODO) cpu clocks, loops, etc"
   ]
  },
  {
   "cell_type": "markdown",
   "metadata": {},
   "source": [
    "### Exercise II: let's do the adding machine, but in python (TODO)"
   ]
  },
  {
   "cell_type": "code",
   "execution_count": 13,
   "metadata": {},
   "outputs": [
    {
     "data": {
      "text/plain": [
       "123872961"
      ]
     },
     "execution_count": 13,
     "metadata": {},
     "output_type": "execute_result"
    }
   ],
   "source": [
    "# NOTE: you do NOT need to do this to actually add numbers in python. That would be AWFUL.\n",
    "# But, this is essentially what's going on under the hood when you write\n",
    "\n",
    "124 + 123872837"
   ]
  }
 ],
 "metadata": {
  "kernelspec": {
   "display_name": "Python 3",
   "language": "python",
   "name": "python3"
  },
  "language_info": {
   "codemirror_mode": {
    "name": "ipython",
    "version": 3
   },
   "file_extension": ".py",
   "mimetype": "text/x-python",
   "name": "python",
   "nbconvert_exporter": "python",
   "pygments_lexer": "ipython3",
   "version": "3.7.0"
  }
 },
 "nbformat": 4,
 "nbformat_minor": 2
}
