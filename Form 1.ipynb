{
 "cells": [
  {
   "cell_type": "markdown",
   "metadata": {},
   "source": [
    "TODO: introductions, a little bit about how this class may be different (zen and the art of motorcycle matainence)"
   ]
  },
  {
   "cell_type": "markdown",
   "metadata": {},
   "source": [
    "# Form 1\n",
    "\n",
    "- software isn't **real**, so... how do we represent \"things\", how do we represent reality?\n",
    "- well, there's one thing we know for sure: \n",
    "    - \"I think, therefore I am\"\n",
    "    - **[some things \"are\" and some things \"are not\"](https://www.youtube.com/watch?v=IR8Um_vZ3oM)**\n",
    "- in electronics, you can represent whether something is or is not with a [transistor](https://en.wikipedia.org/wiki/Transistor#Transistor_as_a_switch) (invented in 1926, it isn't just a simple switch - it can be told whether or not it is on or off)"
   ]
  },
  {
   "cell_type": "markdown",
   "metadata": {},
   "source": [
    "![transistor](https://upload.wikimedia.org/wikipedia/commons/2/21/Transistorer_%28cropped%29.jpg)"
   ]
  },
  {
   "cell_type": "markdown",
   "metadata": {},
   "source": [
    "## `being` and `nonbeing`\n",
    "\n",
    "- _bi-nary_ (two numbered)\n",
    "- seems trivial but \"nothing\" and \"everything\" have a long, sordid history\n",
    "  - zero was rejected (zeno's paradox)\n",
    "  - infinity"
   ]
  },
  {
   "cell_type": "markdown",
   "metadata": {},
   "source": [
    "## from whether or not something `is` to `how it is`\n",
    "\n",
    "When you get down to it, only knowing if something _is_ only scratches the surface. \n",
    "\n",
    "_Play a game of 20 questions._"
   ]
  },
  {
   "cell_type": "markdown",
   "metadata": {},
   "source": [
    "---\n",
    "\n",
    "Defining the **shape** of something is as simple as asking enough yes or no questions:\n",
    "\n",
    "```\n",
    "         question?\n",
    "      /             \\\n",
    "      0             1\n",
    "      \n",
    "         question?\n",
    "  /      \\      /      \\\n",
    "  0      1      0      1\n",
    "  \n",
    "         question?\n",
    "/   \\  /   \\  /   \\  /   \\\n",
    "0   1  0   1  0   1  0   1\n",
    "\n",
    "---------answers-----------\n",
    "0   1  2   3  4   5  6   7\n",
    "```\n",
    "\n",
    "---\n",
    "\n",
    "```\n",
    "00000000000000000000000\n",
    "00000000111100000000000\n",
    "00000000011111000000000\n",
    "00000000010101100000000\n",
    "00000000001110000000000\n",
    "00000000000100000000000\n",
    "00000001111111111000000\n",
    "00000111111111111100000\n",
    "00001111111111101110000\n",
    "00011100111111100111000\n",
    "00011100011111100111000\n",
    "00001110011111100110000\n",
    "```\n",
    "\n",
    "...and so on.\n",
    "\n",
    "---\n",
    "\n",
    "#### The more questions you ask, the higher **resolution** your result is.\n",
    "#### But asking questions takes time, and _each answer requires resources._"
   ]
  },
  {
   "cell_type": "markdown",
   "metadata": {},
   "source": [
    "### number of yes/no questions required to identify the form `100`"
   ]
  },
  {
   "cell_type": "code",
   "execution_count": 1,
   "metadata": {},
   "outputs": [
    {
     "data": {
      "text/plain": [
       "7"
      ]
     },
     "execution_count": 1,
     "metadata": {},
     "output_type": "execute_result"
    }
   ],
   "source": [
    "(100).bit_length() # bit is short for \"binary digit\""
   ]
  },
  {
   "cell_type": "markdown",
   "metadata": {},
   "source": [
    "### number of yes/no questions required to identify the form `\"Daniel\"`"
   ]
  },
  {
   "cell_type": "code",
   "execution_count": 37,
   "metadata": {},
   "outputs": [
    {
     "data": {
      "text/plain": [
       "55"
      ]
     },
     "execution_count": 37,
     "metadata": {},
     "output_type": "execute_result"
    }
   ],
   "source": [
    "import sys # short for \"system\"\n",
    "\n",
    "sys.getsizeof(\"Daniel\")"
   ]
  },
  {
   "cell_type": "markdown",
   "metadata": {},
   "source": [
    "_TODO: Compilers. e.g. \"we were just talking about zeroes and ones and now what is this???\" Compile some python code?_"
   ]
  },
  {
   "cell_type": "markdown",
   "metadata": {},
   "source": [
    "## I have many questions. Let's start with... what are the `\"`s for?? Are you just being sarcastic\n",
    "\n",
    "> Why do you need them for `\"Daniel\"` and not for `100`???\n",
    "\n",
    "**Let's talk about ~typing~.**\n",
    "\n",
    "In reality, most programming languages group the information about a given **thing** into two parts -\n",
    "- what kind of thing it is, the thing's `type`.\n",
    "- the thing's `value` - what its contents are.\n",
    "\n",
    "Whenever we approach something new in a program, we must first \n",
    "- find out what a thing is, its `type`\n",
    "- then what's in it. Its contents, basically.\n",
    "\n",
    "Effectively the `type` provides context for the raw... `value`. It's basically a label indicating a category or pattern. `person` is the type, the `DNA` is their content"
   ]
  },
  {
   "cell_type": "code",
   "execution_count": null,
   "metadata": {},
   "outputs": [],
   "source": [
    "type(100)"
   ]
  },
  {
   "cell_type": "markdown",
   "metadata": {},
   "source": [
    "(`int` is short for [`integer`]())"
   ]
  },
  {
   "cell_type": "code",
   "execution_count": null,
   "metadata": {},
   "outputs": [],
   "source": [
    "type(\"Daniel\")"
   ]
  },
  {
   "cell_type": "markdown",
   "metadata": {},
   "source": [
    "(`str` is short for.... `string`. The idea is that it's a `string` of letters. Like a friendship bracelet.)\n",
    "\n",
    "The quotation marks here indicate to the compiler that this thing, is, in fact, a `string`. This convention is extremely common. Python has been written to understand that something wrapped in quotation marks is of type `string`."
   ]
  },
  {
   "cell_type": "markdown",
   "metadata": {},
   "source": [
    "## Why do we even need these \"types\" at all? Isn't that racist?\n",
    "\n",
    "Unfortunately, binary data without context is just that - binary data. A `type`... _TODO: Plato_"
   ]
  },
  {
   "cell_type": "markdown",
   "metadata": {},
   "source": [
    "_TODO: 100 vs. \"100\" example and canoncial list of types in python_"
   ]
  },
  {
   "cell_type": "code",
   "execution_count": null,
   "metadata": {},
   "outputs": [],
   "source": []
  }
 ],
 "metadata": {
  "kernelspec": {
   "display_name": "Python 3",
   "language": "python",
   "name": "python3"
  },
  "language_info": {
   "codemirror_mode": {
    "name": "ipython",
    "version": 3
   },
   "file_extension": ".py",
   "mimetype": "text/x-python",
   "name": "python",
   "nbconvert_exporter": "python",
   "pygments_lexer": "ipython3",
   "version": "3.7.0"
  }
 },
 "nbformat": 4,
 "nbformat_minor": 2
}
